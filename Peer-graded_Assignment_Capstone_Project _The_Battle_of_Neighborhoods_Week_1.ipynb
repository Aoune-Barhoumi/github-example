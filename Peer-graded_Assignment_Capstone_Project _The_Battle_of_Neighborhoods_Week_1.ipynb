{
 "cells": [
  {
   "cell_type": "markdown",
   "metadata": {},
   "source": [
    " #  Peer-graded Assignment: Capstone Project - The Battle of Neighborhoods (Week 1)\n"
   ]
  },
  {
   "cell_type": "markdown",
   "metadata": {},
   "source": [
    "## Introduction/Business Problem"
   ]
  },
  {
   "cell_type": "markdown",
   "metadata": {},
   "source": [
    "The question I want to answer in this project is the following: is there a correlation between the crime rate and the avenues in New York boroughs.  It is know that the crime, in general, is highly correlated to many factors such as poverty, unemployment, low educational attainment. However, there might be a correlation between crime rate and the type of avenues in certain areas. For example, areas with high crime rate might have more clubs, bars whereas area with low crime rate might have more museums and parks. I am not saying that this is the truth but the project will allow me to check this hypothesis and determine this correlation. \n",
    "Once we determine the avenues that are more prevalent in safe areas, we could probably generalize the correlation to areas where crime data is not available and predict the safety level of the area based on the type of avenues. I believe this analysis will be fun and interesting and I am excited to see the results.\n",
    "The audience could be NY city authorities, social scientists, and criminologists. This information will help them better understand factors that govern the crime rate in the city and how we can control the crime rate by controlling the type of avenues.  \n"
   ]
  },
  {
   "cell_type": "markdown",
   "metadata": {},
   "source": [
    "## Data "
   ]
  },
  {
   "cell_type": "markdown",
   "metadata": {},
   "source": [
    "I will use 2 source of data:\n",
    "1.\tCrime map based on NYPD complaint data current from the NYC open data (https://data.cityofnewyork.us/Public-Safety/Crime-Map-/5jvd-shfj). This dataset includes all valid felony, misdemeanor, and violation crimes reported to the New York City Police Department (NYPD) for all complete quarters from 1974 till 2020. It has 108058 crimes with information about type of the crime, borough, date and time, and location (lat, lon). That data can be easily exported as csv and used for analysis.\n",
    "2.\tI will use the Fousquare to determine the avenue in different NY borough and other information. Avenue extraction is similar to the practices we had. \n"
   ]
  },
  {
   "cell_type": "code",
   "execution_count": null,
   "metadata": {},
   "outputs": [],
   "source": []
  }
 ],
 "metadata": {
  "kernelspec": {
   "display_name": "Python 3",
   "language": "python",
   "name": "python3"
  },
  "language_info": {
   "codemirror_mode": {
    "name": "ipython",
    "version": 3
   },
   "file_extension": ".py",
   "mimetype": "text/x-python",
   "name": "python",
   "nbconvert_exporter": "python",
   "pygments_lexer": "ipython3",
   "version": "3.7.6"
  }
 },
 "nbformat": 4,
 "nbformat_minor": 4
}
